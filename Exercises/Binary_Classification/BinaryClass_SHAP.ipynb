{
 "cells": [
  {
   "cell_type": "code",
   "execution_count": null,
   "id": "927174ca",
   "metadata": {},
   "outputs": [],
   "source": [
    "import numpy as np\n",
    "import shap\n",
    "from sklearn import datasets\n",
    "from sklearn.model_selection import train_test_split\n",
    "from sklearn.preprocessing import StandardScaler\n",
    "from imblearn.over_sampling import SMOTE\n",
    "from sklearn.pipeline import Pipeline\n",
    "from sklearn.metrics import classification_report\n",
    "from sklearn.svm import SVC\n",
    "from sklearn.ensemble import RandomForestClassifier\n",
    "from sklearn.neighbors import KNeighborsClassifier\n",
    "\n",
    "# Load the dataset\n",
    "breast = datasets.load_breast_cancer()\n",
    "X = breast.data\n",
    "y = breast.target\n",
    "\n",
    "# Standardize the features for better performance\n",
    "scaler = StandardScaler()\n",
    "X = scaler.fit_transform(X)\n",
    "\n",
    "# Split the data into train and test sets\n",
    "X_train, X_test, y_train, y_test = train_test_split(X, y, test_size=0.2, random_state=42)\n",
    "\n",
    "# Apply SMOTE for oversampling the minority class\n",
    "smote = SMOTE(random_state=42)\n",
    "X_train_smote, y_train_smote = smote.fit_resample(X_train, y_train)\n",
    "\n",
    "# Train the model\n",
    "model = RandomForestClassifier()  # You can replace it with your preferred model\n",
    "model.fit(X_train_smote, y_train_smote)\n",
    "\n",
    "# Perform SHAP analysis\n",
    "explainer = shap.Explainer(model, X_train_smote)\n",
    "shap_values = explainer(X_test)\n",
    "\n",
    "# Summarize the SHAP values\n",
    "shap.summary_plot(shap_values, X_test, feature_names=breast.feature_names)\n",
    "\n",
    "# Calculate and plot partial dependence\n",
    "for feature in range(X_test.shape[1]):\n",
    "    shap.dependence_plot(feature_names=breast.feature_names[feature],\n",
    "                         shap_values=shap_values[:, feature],\n",
    "                         features=X_test[:, feature],\n",
    "                         interaction_index=None,\n",
    "                         display_features=X_test,\n",
    "                         title=f'Partial Dependence Plot for Feature: {breast.feature_names[feature]}')\n",
    "\n",
    "# Evaluate the model on the test set\n",
    "y_pred = model.predict(X_test)\n",
    "\n",
    "# Print the classification report\n",
    "print('Classification Report:')\n",
    "print(classification_report(y_test, y_pred))\n"
   ]
  }
 ],
 "metadata": {
  "kernelspec": {
   "display_name": "Python 3 (ipykernel)",
   "language": "python",
   "name": "python3"
  },
  "language_info": {
   "codemirror_mode": {
    "name": "ipython",
    "version": 3
   },
   "file_extension": ".py",
   "mimetype": "text/x-python",
   "name": "python",
   "nbconvert_exporter": "python",
   "pygments_lexer": "ipython3",
   "version": "3.8.12"
  }
 },
 "nbformat": 4,
 "nbformat_minor": 5
}
