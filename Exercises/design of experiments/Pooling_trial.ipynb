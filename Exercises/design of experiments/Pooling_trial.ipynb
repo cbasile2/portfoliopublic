{
 "cells": [
  {
   "cell_type": "code",
   "execution_count": 1,
   "id": "3a46f923",
   "metadata": {},
   "outputs": [
    {
     "name": "stderr",
     "output_type": "stream",
     "text": [
      "/Users/christianbasile/opt/anaconda3/lib/python3.8/site-packages/statsmodels/tsa/base/tsa_model.py:7: FutureWarning: pandas.Int64Index is deprecated and will be removed from pandas in a future version. Use pandas.Index with the appropriate dtype instead.\n",
      "  from pandas import (to_datetime, Int64Index, DatetimeIndex, Period,\n",
      "/Users/christianbasile/opt/anaconda3/lib/python3.8/site-packages/statsmodels/tsa/base/tsa_model.py:7: FutureWarning: pandas.Float64Index is deprecated and will be removed from pandas in a future version. Use pandas.Index with the appropriate dtype instead.\n",
      "  from pandas import (to_datetime, Int64Index, DatetimeIndex, Period,\n"
     ]
    },
    {
     "data": {
      "image/png": "[encoded data removed]",
      "text/plain": [
       "<Figure size 432x288 with 1 Axes>"
      ]
     },
     "metadata": {
      "needs_background": "light"
     },
     "output_type": "display_data"
    },
    {
     "name": "stdout",
     "output_type": "stream",
     "text": [
      "                           sum_sq     df           F        PR(>F)\n",
      "Treatment               92.366569    1.0    3.969566  4.668562e-02\n",
      "Age                   4265.363683    1.0  183.309197  1.383970e-37\n",
      "StressLevel            295.888828    1.0   12.716183  3.851011e-04\n",
      "MentalWellnessScore   2924.099451    1.0  125.666734  4.179513e-27\n",
      "Residual             17754.005511  763.0         NaN           NaN\n",
      "\n",
      "For the Pooled Outcome to achieve 80% power using ANCOVA: Required sample size per group is approximately 294538\n"
     ]
    }
   ],
   "source": [
    "import numpy as np\n",
    "import pandas as pd\n",
    "import matplotlib.pyplot as plt\n",
    "import statsmodels.api as sm\n",
    "from statsmodels.formula.api import ols\n",
    "from statsmodels.stats.power import FTestAnovaPower\n",
    "\n",
    "# Simulate Data\n",
    "np.random.seed(42)\n",
    "n_per_group = 384\n",
    "k = 2  # Number of groups (2 treatments)\n",
    "subjects = list(range(n_per_group * 2))\n",
    "treatments = [\"A\"] * n_per_group + [\"B\"] * n_per_group\n",
    "\n",
    "mean_outcomes_A = [50, 55, 60, 65]\n",
    "mean_outcomes_B = [52, 57, 59, 63]\n",
    "std_dev = 10\n",
    "\n",
    "covariate_age = np.random.normal(30, 5, n_per_group * 2)\n",
    "covariate_stress = np.random.uniform(1, 10, n_per_group * 2)  # On a scale of 1 to 10\n",
    "covariate_mental_wellness = np.random.uniform(50, 100, n_per_group * 2)  # Score out of 100\n",
    "\n",
    "data_list = []\n",
    "\n",
    "for idx, (mean_a, mean_b) in enumerate(zip(mean_outcomes_A, mean_outcomes_B)):\n",
    "    outcome_A = np.random.normal(mean_a + 0.5 * covariate_age[:n_per_group] - 0.3 * covariate_stress[:n_per_group] + 0.1 * covariate_mental_wellness[:n_per_group], std_dev, n_per_group)\n",
    "    outcome_B = np.random.normal(mean_b + 0.5 * covariate_age[n_per_group:] - 0.3 * covariate_stress[n_per_group:] + 0.1 * covariate_mental_wellness[n_per_group:], std_dev, n_per_group)\n",
    "    data = pd.DataFrame({\n",
    "        'Subject': subjects,\n",
    "        'Treatment': treatments,\n",
    "        'Age': covariate_age,\n",
    "        'StressLevel': covariate_stress,\n",
    "        'MentalWellnessScore': covariate_mental_wellness,\n",
    "        f'Outcome_{idx + 1}': list(outcome_A) + list(outcome_B)\n",
    "    })\n",
    "    data_list.append(data)\n",
    "\n",
    "data_merged = data_list[0]\n",
    "for df in data_list[1:]:\n",
    "    data_merged = pd.merge(data_merged, df, on=['Subject', 'Treatment', 'Age', 'StressLevel', 'MentalWellnessScore'])\n",
    "\n",
    "# Pool Outcomes\n",
    "data_merged['Pooled_Outcome'] = data_merged[['Outcome_1', 'Outcome_2', 'Outcome_3', 'Outcome_4']].mean(axis=1)\n",
    "\n",
    "# Plot distributions of pooled outcomes\n",
    "plt.hist(data_merged[data_merged['Treatment'] == 'A']['Pooled_Outcome'], alpha=0.5, label='Treatment A', color='blue')\n",
    "plt.hist(data_merged[data_merged['Treatment'] == 'B']['Pooled_Outcome'], alpha=0.5, label='Treatment B', color='red')\n",
    "plt.legend()\n",
    "plt.title('Distribution of Pooled Outcome')\n",
    "plt.xlabel('Pooled Outcome Value')\n",
    "plt.ylabel('Frequency')\n",
    "plt.show()\n",
    "\n",
    "# ANCOVA\n",
    "model = ols('Pooled_Outcome ~ Treatment + Age + StressLevel + MentalWellnessScore', data=data_merged).fit()\n",
    "anova_table = sm.stats.anova_lm(model, typ=2)\n",
    "print(anova_table)\n",
    "\n",
    "# Power Analysis\n",
    "f_value = anova_table.loc['Treatment', 'F']\n",
    "n_total = n_per_group * k\n",
    "eta_squared = f_value / (f_value + (n_total - k - 1))\n",
    "power_analysis = FTestAnovaPower()\n",
    "required_n = power_analysis.solve_power(effect_size=eta_squared, alpha=0.05, power=0.80, k_groups=k)\n",
    "print(f\"\\nFor the Pooled Outcome to achieve 80% power using ANCOVA: Required sample size per group is approximately {int(np.ceil(required_n))}\")\n"
   ]
  },
  {
   "cell_type": "code",
   "execution_count": null,
   "id": "d48cfc1f",
   "metadata": {},
   "outputs": [],
   "source": []
  }
 ],
 "metadata": {
  "kernelspec": {
   "display_name": "Python 3 (ipykernel)",
   "language": "python",
   "name": "python3"
  },
  "language_info": {
   "codemirror_mode": {
    "name": "ipython",
    "version": 3
   },
   "file_extension": ".py",
   "mimetype": "text/x-python",
   "name": "python",
   "nbconvert_exporter": "python",
   "pygments_lexer": "ipython3",
   "version": "3.8.12"
  }
 },
 "nbformat": 4,
 "nbformat_minor": 5
}
