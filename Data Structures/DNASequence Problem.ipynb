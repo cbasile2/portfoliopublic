{
 "cells": [
  {
   "cell_type": "markdown",
   "id": "c59a2928",
   "metadata": {},
   "source": [
    "The DNA targets (i.e. genomes) we design probes for have coordinates for each base in the sequence\n",
    "(i.e. string of letters representing the DNA base identity). The coordinates for a target are typically zero-\n",
    "based integers, 0 to {length of target sequence - 1}, with any stretch of the sequence being identified by\n",
    "a coordinate set with the start and end sequence positions (inclusive). That is, the first coordinate\n",
    "identifies the start position of the stretch, and the last coordinate is the last position. Thus, for target\n",
    "GGCTAGCCGTAAAGCTAG, the coordinate set (4,10) refer to the sequence AGCCGTA.\n",
    "The Problem:\n",
    "One common problem in our industry is to determine if two coordinate sets overlap in the same target\n",
    "coordinate system. Your task is to write an efficient function that considers two input coordinate sets,\n",
    "and return if they overlap, True or False. This can be written in pseudocode, or any language you prefer.\n",
    "Add three examples of inputs you think would give good problem coverage, along with the outputs you\n",
    "expect your function to produce.\n",
    "Input example: seqA=(101, 145), seqB=(145, 170)\n",
    "Output expected: True\n",
    "\n",
    "Append your solution and examples to this document and return."
   ]
  },
  {
   "cell_type": "code",
   "execution_count": 25,
   "id": "64bc366e",
   "metadata": {},
   "outputs": [
    {
     "name": "stdout",
     "output_type": "stream",
     "text": [
      "2\n",
      "3\n"
     ]
    }
   ],
   "source": [
    "for endi in range(2,4):\n",
    "        print(endi)"
   ]
  },
  {
   "cell_type": "code",
   "execution_count": 16,
   "id": "6389fe4c",
   "metadata": {},
   "outputs": [
    {
     "name": "stdout",
     "output_type": "stream",
     "text": [
      "0\n",
      "1\n",
      "2\n"
     ]
    }
   ],
   "source": [
    "for endi in range(3):\n",
    "        print(endi)"
   ]
  },
  {
   "cell_type": "code",
   "execution_count": 2,
   "id": "af2efd4a",
   "metadata": {},
   "outputs": [
    {
     "data": {
      "text/plain": [
       "[(1, 2, 3), (1, 3, 2), (2, 1, 3), (2, 3, 1), (3, 1, 2), (3, 2, 1)]"
      ]
     },
     "execution_count": 2,
     "metadata": {},
     "output_type": "execute_result"
    }
   ],
   "source": [
    "\n",
    "import itertools\n",
    "list(itertools.permutations([1, 2, 3]))"
   ]
  },
  {
   "cell_type": "code",
   "execution_count": 43,
   "id": "d6c224f6",
   "metadata": {},
   "outputs": [
    {
     "data": {
      "text/plain": [
       "False"
      ]
     },
     "execution_count": 43,
     "metadata": {},
     "output_type": "execute_result"
    }
   ],
   "source": [
    "\n",
    "\n",
    "#Given Example TEST 0 \n",
    "seqA= range(101,146)\n",
    "seqB= range(145, 172)\n",
    "#Given Example TEST 1\n",
    "seqA= range(101,146)\n",
    "seqB= range(112, 148)\n",
    "#Given Example TEST 2\n",
    "seqA= range(101,146)\n",
    "seqB= range(115, 148)\n",
    "#Given Example TEST 3\n",
    "seqA= range(101,146)\n",
    "seqB= range(145, 146)\n",
    "#Given Example TEST 3\n",
    "seqA= range(101,146)\n",
    "seqB= range(90, 100)\n",
    "\n",
    "def overlap(seqA, seqB):\n",
    "    totalA= len(seqA)\n",
    "    totalB= len(seqB)\n",
    "    if totalA > totalB:\n",
    "        output=False\n",
    "        for iB in seqB:\n",
    "            outputa=seqB.start in seqA and seqB[-1] in seqA\n",
    "            if outputa==True:\n",
    "                output=True\n",
    "                break\n",
    "            else:\n",
    "                if iB in seqA:\n",
    "                    output=True\n",
    "                    break\n",
    "                else:\n",
    "                    continue\n",
    "\n",
    "    elif totalA <= totalB:\n",
    "            output=False\n",
    "            for iA in seqA:\n",
    "                outputb=seqA.start in seqB and seqA[-1] in seqB\n",
    "                if outputb ==True:\n",
    "                    output=True\n",
    "                    break\n",
    "                else:\n",
    "                    if iA in seqB:\n",
    "                        output=True\n",
    "                        break\n",
    "                    else:\n",
    "                        continue\n",
    "                        \n",
    "    return output\n",
    "\n",
    "            \n",
    "            \n",
    "overlap(seqA, seqB)\n",
    "                \n",
    "\n",
    "            \n",
    "            \n",
    "\n",
    "\n",
    "\n",
    "\n",
    "\n"
   ]
  },
  {
   "cell_type": "code",
   "execution_count": 37,
   "id": "b5616265",
   "metadata": {},
   "outputs": [
    {
     "data": {
      "text/plain": [
       "True"
      ]
     },
     "execution_count": 37,
     "metadata": {},
     "output_type": "execute_result"
    }
   ],
   "source": [
    "seqB.start in seqA and seqB[-1] in seqA"
   ]
  },
  {
   "cell_type": "code",
   "execution_count": 72,
   "id": "85e0039b",
   "metadata": {},
   "outputs": [
    {
     "name": "stdout",
     "output_type": "stream",
     "text": [
      "26 136\n",
      "145 170\n",
      "10 145\n",
      "True\n"
     ]
    }
   ],
   "source": [
    " \n",
    "#More Efficient Solution \n",
    "\n",
    "#TEST0\n",
    "seqA= range(101,146)\n",
    "seqB= range(145, 171)\n",
    "\n",
    "#TEST1\n",
    "seqA= range(145, 171)\n",
    "seqB= range(101,146)\n",
    "\n",
    "#TEST2\n",
    "seqA= range(145, 171)\n",
    "seqB= range(90,145)\n",
    "\n",
    "#TEST3\n",
    "seqA= range(145, 171)\n",
    "seqB= range(10,146)\n",
    "\n",
    "\n",
    "\n",
    "def overlapv2(seqA, seqB):\n",
    "\n",
    "    totalA= len(seqA)\n",
    "    totalB= len(seqB)\n",
    "    print(totalA, totalB)\n",
    "    startA, endA= seqA.start, seqA[-1]\n",
    "    startB, endB= seqB.start, seqB[-1]\n",
    "    print(startA, endA)\n",
    "    print(startB, endB)\n",
    "    #outputa=seqB.start in seqA and seqB[-1] in seqA\n",
    "\n",
    "    if startB in seqA or endB in seqA or startA in seqB or endA in seqB:\n",
    "\n",
    "        output=True\n",
    "\n",
    "    else: \n",
    "        output=False\n",
    "        \n",
    "    return output\n",
    "\n",
    "\n",
    "                    \n",
    "\n",
    "\n",
    "            "
   ]
  },
  {
   "cell_type": "code",
   "execution_count": null,
   "id": "66ee11c9",
   "metadata": {},
   "outputs": [],
   "source": [
    "\n",
    "\n",
    "# This Section can be used to quickly find out which size is bigger. \n",
    "\n",
    "\n",
    "index=listsize.index(minvalue) # to find which one is the smaller\n",
    "\n",
    "seqsmaller= sequences[index]\n",
    "seqbigger= sequences[~index]\n",
    "\n",
    "\n",
    "sequences= [seqA, seqB]\n",
    "minvalue=min(totalA, totalB)\n",
    "listsize= [totalA, totalB]\n",
    "\n",
    "startbigger, endbigger=   seqbigger.start, seqbigger[-1]\n",
    "startsmaller, endsmaller =  seqsmaller.start, seqsmaller[-1]\n",
    "\n",
    "\n",
    "if endA < startB:\n",
    "    print(\"endA LESS STARTB\")\n",
    "    output= False\n",
    "    \n",
    "elif startA > endB:\n",
    "    print(\"startA > endB\")\n",
    "    output= False"
   ]
  }
 ],
 "metadata": {
  "kernelspec": {
   "display_name": "Python 3 (ipykernel)",
   "language": "python",
   "name": "python3"
  },
  "language_info": {
   "codemirror_mode": {
    "name": "ipython",
    "version": 3
   },
   "file_extension": ".py",
   "mimetype": "text/x-python",
   "name": "python",
   "nbconvert_exporter": "python",
   "pygments_lexer": "ipython3",
   "version": "3.8.12"
  }
 },
 "nbformat": 4,
 "nbformat_minor": 5
}
