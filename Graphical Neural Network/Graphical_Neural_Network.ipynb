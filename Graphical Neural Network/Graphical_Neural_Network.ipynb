{
 "cells": [
  {
   "cell_type": "code",
   "execution_count": 1,
   "id": "635561c5",
   "metadata": {},
   "outputs": [
    {
     "data": {
      "image/png": "[encoded data removed]",
      "text/plain": [
       "<Figure size 432x288 with 1 Axes>"
      ]
     },
     "metadata": {},
     "output_type": "display_data"
    }
   ],
   "source": [
    "import networkx as nx\n",
    "import matplotlib.pyplot as plt\n",
    "\n",
    "# Create a graph\n",
    "G = nx.DiGraph()\n",
    "\n",
    "# Add nodes\n",
    "G.add_node(\"Input\")\n",
    "G.add_node(\"Hidden1\")\n",
    "G.add_node(\"Hidden2\")\n",
    "G.add_node(\"Output\")\n",
    "\n",
    "# Add edges\n",
    "G.add_edge(\"Input\", \"Hidden1\")\n",
    "G.add_edge(\"Hidden1\", \"Hidden2\")\n",
    "G.add_edge(\"Hidden2\", \"Output\")\n",
    "\n",
    "# Set node positions for better visualization\n",
    "pos = {\n",
    "    \"Input\": (0, 2),\n",
    "    \"Hidden1\": (1, 2),\n",
    "    \"Hidden2\": (2, 2),\n",
    "    \"Output\": (3, 2)\n",
    "}\n",
    "\n",
    "# Draw the graph\n",
    "nx.draw_networkx(G, pos, with_labels=True, node_color='lightblue', node_size=1000, font_size=12)\n",
    "plt.title(\"Graphical Neural Network\")\n",
    "plt.axis(\"off\")\n",
    "plt.show()\n"
   ]
  },
  {
   "cell_type": "code",
   "execution_count": null,
   "id": "87e8c789",
   "metadata": {},
   "outputs": [],
   "source": []
  }
 ],
 "metadata": {
  "kernelspec": {
   "display_name": "Python 3 (ipykernel)",
   "language": "python",
   "name": "python3"
  },
  "language_info": {
   "codemirror_mode": {
    "name": "ipython",
    "version": 3
   },
   "file_extension": ".py",
   "mimetype": "text/x-python",
   "name": "python",
   "nbconvert_exporter": "python",
   "pygments_lexer": "ipython3",
   "version": "3.8.12"
  }
 },
 "nbformat": 4,
 "nbformat_minor": 5
}
